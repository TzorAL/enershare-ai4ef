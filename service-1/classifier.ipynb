{
 "cells": [
  {
   "cell_type": "code",
   "execution_count": 1,
   "metadata": {},
   "outputs": [],
   "source": [
    "import numpy as np\n",
    "import pandas as pd\n",
    "import seaborn as sns\n",
    "import matplotlib.pyplot as plt"
   ]
  },
  {
   "cell_type": "code",
   "execution_count": 2,
   "metadata": {},
   "outputs": [
    {
     "name": "stdout",
     "output_type": "stream",
     "text": [
      "<class 'pandas.core.frame.DataFrame'>\n",
      "RangeIndex: 198 entries, 0 to 197\n",
      "Data columns (total 83 columns):\n",
      " #   Column                                        Non-Null Count  Dtype  \n",
      "---  ------                                        --------------  -----  \n",
      " 0   Project number                                198 non-null    object \n",
      " 1   The date                                      198 non-null    object \n",
      " 2   Region                                        198 non-null    object \n",
      " 3   The town/village                              191 non-null    object \n",
      " 4   Home address                                  198 non-null    object \n",
      " 5   County/City                                   198 non-null    object \n",
      " 6   Initial year of exploitation                  198 non-null    int64  \n",
      " 7   Building Total Area                           198 non-null    float64\n",
      " 8   Room volume                                   198 non-null    float64\n",
      " 9   Average floor height                          198 non-null    float64\n",
      " 10  Reference area                                198 non-null    float64\n",
      " 11  Above-ground floors                           198 non-null    int64  \n",
      " 12  Underground floor                             198 non-null    int64  \n",
      " 13  Mansard                                       198 non-null    int64  \n",
      " 14  Roof floor                                    198 non-null    int64  \n",
      " 15  Initial energy class                          198 non-null    object \n",
      " 16  Energy consumption before                     198 non-null    float64\n",
      " 17  Heat energy consumption before                198 non-null    float64\n",
      " 18  Carbon dioxide emissions before               197 non-null    float64\n",
      " 19  Carrying out construction works               198 non-null    int64  \n",
      " 20  Reconstruction of engineering systems         198 non-null    int64  \n",
      " 21  Water heating system                          198 non-null    int64  \n",
      " 22  Heat installation                             198 non-null    int64  \n",
      " 23  Energy audit number                           198 non-null    object \n",
      " 24  Energy class after                            198 non-null    object \n",
      " 25  Heat energy consumption after                 198 non-null    int64  \n",
      " 26  Consumption for hot water after               198 non-null    int64  \n",
      " 27  Consumption for mechanical ventilation after  198 non-null    int64  \n",
      " 28  Consumption for lighting after                198 non-null    int64  \n",
      " 29  Consumption for cooling after                 198 non-null    int64  \n",
      " 30  Energy consumption after                      198 non-null    int64  \n",
      " 31  Heat saving for heating                       198 non-null    float64\n",
      " 32  Total energy consumption saving               198 non-null    float64\n",
      " 33  Saving of heat energy                         198 non-null    float64\n",
      " 34  Primary non-renewable energy                  197 non-null    float64\n",
      " 35  Primary total energy consumption              198 non-null    float64\n",
      " 36  Almost zero energy building                   198 non-null    object \n",
      " 37  Carbon dioxide emission tons after            198 non-null    float64\n",
      " 38  Carbon dioxide emission after                 198 non-null    float64\n",
      " 39  Area of the external surface                  179 non-null    float64\n",
      " 40  Average heat transfer coefficient             179 non-null    float64\n",
      " 41  Average heat transfer coefficient_1           179 non-null    float64\n",
      " 42  Building calculated heat loss coefficient     179 non-null    float64\n",
      " 43  Building allowable heat loss coefficient      179 non-null    float64\n",
      " 44  Indoor temperature heating                    179 non-null    float64\n",
      " 45  Indoor temperature for cooling                179 non-null    object \n",
      " 46  Air exchange rate                             179 non-null    float64\n",
      " 47  Ventilation heat loss coefficient             177 non-null    float64\n",
      " 48  Energy resource for heating 1                 179 non-null    object \n",
      " 49  Energy resource for heating 2                 178 non-null    object \n",
      " 50  Energy resource for hot water 1               179 non-null    object \n",
      " 51  Energy resource for hot water 2               178 non-null    object \n",
      " 52  Energy resource for ventilation               178 non-null    object \n",
      " 53  Energy resource for cooling 1                 179 non-null    object \n",
      " 54  Energy resource for cooling 2                 179 non-null    object \n",
      " 55  CO2 emission factor for heating 1             179 non-null    float64\n",
      " 56  CO2 emission factor for heating 2             179 non-null    object \n",
      " 57  CO2 emission factor for hot water 1           179 non-null    object \n",
      " 58  CO2 emission factor for hot water 2           179 non-null    object \n",
      " 59  CO2 emission factor for ventilation           179 non-null    object \n",
      " 60  CO2 emission factor for cooling 1             179 non-null    object \n",
      " 61  CO2 emission factor for cooling 2             179 non-null    object \n",
      " 62  Non-renewable factor for heating 1            179 non-null    float64\n",
      " 63  Non-renewable factor for heating 2            179 non-null    object \n",
      " 64  Non-renewable factor for water 1              179 non-null    object \n",
      " 65  Non-renewable factor for water 2              179 non-null    object \n",
      " 66  Non-renewable factor for ventilation          179 non-null    object \n",
      " 67  Non-renewable factor for cooling 1            179 non-null    object \n",
      " 68  Non-renewable factor for cooling 2            179 non-null    object \n",
      " 69  Renewable factor for heating 1                179 non-null    float64\n",
      " 70  Renewable factor for heating 2                179 non-null    object \n",
      " 71  Renewable factor for water 1                  179 non-null    object \n",
      " 72  Renewable factor for water 2                  179 non-null    object \n",
      " 73  Renewable factor for ventilation              179 non-null    object \n",
      " 74  Renewable factor for cooling 1                179 non-null    object \n",
      " 75  Renewable factor for cooling 2                179 non-null    object \n",
      " 76  Total factor for heating 1                    179 non-null    float64\n",
      " 77  Total factor for heating 2                    179 non-null    object \n",
      " 78  Total factor for water 1                      179 non-null    object \n",
      " 79  Total factor for water 2                      179 non-null    object \n",
      " 80  Total factor for ventilation                  179 non-null    object \n",
      " 81  Total factor for cooling 1                    179 non-null    object \n",
      " 82  Total factor for cooling 2                    179 non-null    object \n",
      "dtypes: float64(26), int64(15), object(42)\n",
      "memory usage: 128.5+ KB\n",
      "None\n"
     ]
    }
   ],
   "source": [
    "df = pd.read_csv('./EF_comp.csv')\n",
    "print(df.info())"
   ]
  },
  {
   "cell_type": "code",
   "execution_count": 3,
   "metadata": {},
   "outputs": [
    {
     "name": "stdout",
     "output_type": "stream",
     "text": [
      "<class 'pandas.core.frame.DataFrame'>\n",
      "RangeIndex: 198 entries, 0 to 197\n",
      "Data columns (total 11 columns):\n",
      " #   Column                                 Non-Null Count  Dtype  \n",
      "---  ------                                 --------------  -----  \n",
      " 0   Building Total Area                    198 non-null    float64\n",
      " 1   Reference area                         198 non-null    float64\n",
      " 2   Above-ground floors                    198 non-null    int64  \n",
      " 3   Underground floor                      198 non-null    int64  \n",
      " 4   Initial energy class                   198 non-null    object \n",
      " 5   Energy consumption before              198 non-null    float64\n",
      " 6   Carrying out construction works        198 non-null    int64  \n",
      " 7   Reconstruction of engineering systems  198 non-null    int64  \n",
      " 8   Water heating system                   198 non-null    int64  \n",
      " 9   Heat installation                      198 non-null    int64  \n",
      " 10  Energy class after                     198 non-null    object \n",
      "dtypes: float64(3), int64(6), object(2)\n",
      "memory usage: 17.1+ KB\n",
      "None\n"
     ]
    }
   ],
   "source": [
    "feature_cols = ['Building Total Area','Reference area','Above-ground floors',\n",
    "                'Underground floor','Energy consumption before',\n",
    "                'Initial energy class ','Energy class after']\n",
    "target_cols = ['Carrying out construction works ','Reconstruction of engineering systems',\n",
    "                'Heat installation','Water heating system']\n",
    "\n",
    "categorical_cols = ['Above-ground floors','Underground floor',\n",
    "                    'Carrying out construction works',\n",
    "                    'Reconstruction of engineering systems',\n",
    "                    'Heat installation','Water heating system']\n",
    "\n",
    "df = df[df.columns[df.columns.isin(feature_cols+target_cols)]]\n",
    "print(df.info())"
   ]
  },
  {
   "cell_type": "code",
   "execution_count": 4,
   "metadata": {},
   "outputs": [],
   "source": [
    "from sklearn.preprocessing import LabelEncoder\n",
    "from sklearn.preprocessing import MinMaxScaler, StandardScaler\n",
    "from sklearn.model_selection import train_test_split\n",
    "from pandas.api.types import is_string_dtype\n",
    "from pandas.api.types import is_numeric_dtype\n",
    "\n",
    "for col in df.columns:\n",
    "    if is_numeric_dtype(df[col]):\n",
    "        df[[col]] = MinMaxScaler().fit_transform(df[[col]])\n",
    "\n",
    "for col in df.columns:\n",
    "    if is_string_dtype(df[col]):\n",
    "        df[col] = LabelEncoder().fit_transform(df[col])\n",
    "\n",
    "\n",
    "Xfeatures = df[feature_cols]\n",
    "ylabels = df[target_cols]\n",
    "\n",
    "train_X,test_X,train_Y,test_Y = train_test_split(Xfeatures,ylabels,test_size=0.2,random_state=7)\n",
    "train_X, validation_X, train_Y, validation_Y = train_test_split(train_X, train_Y, test_size=0.25, random_state=1, shuffle=True) # 0.25 x 0.8 = 0.2\n"
   ]
  },
  {
   "cell_type": "code",
   "execution_count": 5,
   "metadata": {},
   "outputs": [],
   "source": [
    "# from sklearn.neural_network import MLPClassifier\n",
    "\n",
    "# classifier  = MLPClassifier(hidden_layer_sizes=(150,100,50), max_iter=500, activation = 'relu', \n",
    "#                             solver='adam', shuffle=True, random_state=1, #,verbose=True, early_stopping=True\n",
    "#                             learning_rate='adaptive').fit(train_X, train_Y)\n",
    "# classifier.fit(train_X, train_Y)\n",
    "# pred_Y = classifier.predict(validation_X)\n"
   ]
  },
  {
   "cell_type": "code",
   "execution_count": 17,
   "metadata": {},
   "outputs": [
    {
     "name": "stdout",
     "output_type": "stream",
     "text": [
      "\n",
      "Tuning hyper-parameters, based on accuracy for KNN with parameter grid: {'KNN__n_neighbors': [1, 3, 5, 7, 9, 11, 13, 15], 'KNN__weights': ['uniform', 'distance']}\n",
      "Accuracy: 0.425\n",
      "\n",
      "Tuning hyper-parameters, based on accuracy for OVRSVC with parameter grid: {'OVRSVC__estimator__kernel': ['rbf', 'linear'], 'OVRSVC__estimator__gamma': ['scale', 'auto'], 'OVRSVC__estimator__C': [10, 100, 1000]}\n",
      "Accuracy: 0.55\n",
      "\n",
      "Tuning hyper-parameters, based on accuracy for OVRLR with parameter grid: {'OVRLR__estimator__penalty': ['l1', 'l2'], 'OVRLR__estimator__C': [1.0, 0.5, 0.1], 'OVRLR__estimator__solver': ['lbfgs']}\n"
     ]
    },
    {
     "name": "stderr",
     "output_type": "stream",
     "text": [
      "c:\\Users\\User\\AppData\\Local\\Programs\\Python\\Python38\\lib\\site-packages\\sklearn\\model_selection\\_validation.py:378: FitFailedWarning: \n",
      "15 fits failed out of a total of 30.\n",
      "The score on these train-test partitions for these parameters will be set to nan.\n",
      "If these failures are not expected, you can try to debug them by setting error_score='raise'.\n",
      "\n",
      "Below are more details about the failures:\n",
      "--------------------------------------------------------------------------------\n",
      "15 fits failed with the following error:\n",
      "Traceback (most recent call last):\n",
      "  File \"c:\\Users\\User\\AppData\\Local\\Programs\\Python\\Python38\\lib\\site-packages\\sklearn\\model_selection\\_validation.py\", line 686, in _fit_and_score\n",
      "    estimator.fit(X_train, y_train, **fit_params)\n",
      "  File \"c:\\Users\\User\\AppData\\Local\\Programs\\Python\\Python38\\lib\\site-packages\\sklearn\\pipeline.py\", line 382, in fit\n",
      "    self._final_estimator.fit(Xt, y, **fit_params_last_step)\n",
      "  File \"c:\\Users\\User\\AppData\\Local\\Programs\\Python\\Python38\\lib\\site-packages\\sklearn\\multiclass.py\", line 327, in fit\n",
      "    self.estimators_ = Parallel(n_jobs=self.n_jobs, verbose=self.verbose)(\n",
      "  File \"c:\\Users\\User\\AppData\\Local\\Programs\\Python\\Python38\\lib\\site-packages\\joblib\\parallel.py\", line 1085, in __call__\n",
      "    if self.dispatch_one_batch(iterator):\n",
      "  File \"c:\\Users\\User\\AppData\\Local\\Programs\\Python\\Python38\\lib\\site-packages\\joblib\\parallel.py\", line 901, in dispatch_one_batch\n",
      "    self._dispatch(tasks)\n",
      "  File \"c:\\Users\\User\\AppData\\Local\\Programs\\Python\\Python38\\lib\\site-packages\\joblib\\parallel.py\", line 819, in _dispatch\n",
      "    job = self._backend.apply_async(batch, callback=cb)\n",
      "  File \"c:\\Users\\User\\AppData\\Local\\Programs\\Python\\Python38\\lib\\site-packages\\joblib\\_parallel_backends.py\", line 208, in apply_async\n",
      "    result = ImmediateResult(func)\n",
      "  File \"c:\\Users\\User\\AppData\\Local\\Programs\\Python\\Python38\\lib\\site-packages\\joblib\\_parallel_backends.py\", line 597, in __init__\n",
      "    self.results = batch()\n",
      "  File \"c:\\Users\\User\\AppData\\Local\\Programs\\Python\\Python38\\lib\\site-packages\\joblib\\parallel.py\", line 288, in __call__\n",
      "    return [func(*args, **kwargs)\n",
      "  File \"c:\\Users\\User\\AppData\\Local\\Programs\\Python\\Python38\\lib\\site-packages\\joblib\\parallel.py\", line 288, in <listcomp>\n",
      "    return [func(*args, **kwargs)\n",
      "  File \"c:\\Users\\User\\AppData\\Local\\Programs\\Python\\Python38\\lib\\site-packages\\sklearn\\utils\\fixes.py\", line 117, in __call__\n",
      "    return self.function(*args, **kwargs)\n",
      "  File \"c:\\Users\\User\\AppData\\Local\\Programs\\Python\\Python38\\lib\\site-packages\\sklearn\\multiclass.py\", line 83, in _fit_binary\n",
      "    estimator.fit(X, y)\n",
      "  File \"c:\\Users\\User\\AppData\\Local\\Programs\\Python\\Python38\\lib\\site-packages\\sklearn\\linear_model\\_logistic.py\", line 1091, in fit\n",
      "    solver = _check_solver(self.solver, self.penalty, self.dual)\n",
      "  File \"c:\\Users\\User\\AppData\\Local\\Programs\\Python\\Python38\\lib\\site-packages\\sklearn\\linear_model\\_logistic.py\", line 61, in _check_solver\n",
      "    raise ValueError(\n",
      "ValueError: Solver lbfgs supports only 'l2' or 'none' penalties, got l1 penalty.\n",
      "\n",
      "  warnings.warn(some_fits_failed_message, FitFailedWarning)\n",
      "c:\\Users\\User\\AppData\\Local\\Programs\\Python\\Python38\\lib\\site-packages\\sklearn\\model_selection\\_search.py:953: UserWarning: One or more of the test scores are non-finite: [       nan 0.4057971         nan 0.39782609        nan 0.37173913]\n",
      "  warnings.warn(\n"
     ]
    },
    {
     "name": "stdout",
     "output_type": "stream",
     "text": [
      "Accuracy: 0.45\n",
      "\n",
      "Tuning hyper-parameters, based on accuracy for DT with parameter grid: {'DT__criterion': ['entropy'], 'DT__max_depth': [6], 'DT__min_samples_leaf': [1], 'DT__min_samples_split': [4]}\n",
      "Accuracy: 0.45\n",
      "\n",
      "Tuning hyper-parameters, based on accuracy for RF with parameter grid: {'RF__n_estimators': [200, 600], 'RF__max_depth': [4, 10, None], 'RF__min_samples_leaf': [1, 2, 5]}\n",
      "Accuracy: 0.475\n",
      "\n",
      "Tuning hyper-parameters, based on accuracy for MLP with parameter grid: {'MLP__hidden_layer_sizes': [150, 100, 50], 'MLP__activation': ['relu', 'logistic', 'tanh'], 'MLP__solver': ['adam', 'lbfgs', 'sgd']}\n"
     ]
    },
    {
     "name": "stderr",
     "output_type": "stream",
     "text": [
      "c:\\Users\\User\\AppData\\Local\\Programs\\Python\\Python38\\lib\\site-packages\\sklearn\\neural_network\\_multilayer_perceptron.py:702: ConvergenceWarning: Stochastic Optimizer: Maximum iterations (500) reached and the optimization hasn't converged yet.\n",
      "  warnings.warn(\n"
     ]
    },
    {
     "name": "stdout",
     "output_type": "stream",
     "text": [
      "Accuracy: 0.425\n",
      "\n",
      "Tuning hyper-parameters, based on accuracy for XGB with parameter grid: {'XGB__learning_rate': [0.1, 0.2, 0.3], 'XGB__max_depth': [1, 2, 3, 4, 5, 6], 'XGB__min_child_weight': [1, 2], 'XGB__subsample': [1.0, 0.5, 0.1], 'XGB__n_estimators': [200, 600]}\n",
      "Accuracy: 0.475\n"
     ]
    }
   ],
   "source": [
    "from sklearn.pipeline import Pipeline\n",
    "from sklearn.naive_bayes import GaussianNB\n",
    "from sklearn.linear_model import LogisticRegression\n",
    "from sklearn.neighbors import KNeighborsClassifier\n",
    "from sklearn.neural_network import MLPClassifier\n",
    "from sklearn.multiclass import OneVsRestClassifier\n",
    "from sklearn.svm import SVC\n",
    "from sklearn.ensemble import RandomForestClassifier\n",
    "from sklearn.model_selection import GridSearchCV\n",
    "from sklearn import metrics\n",
    "from xgboost import XGBClassifier\n",
    "from sklearn.tree import DecisionTreeClassifier\n",
    "from sklearn.metrics import multilabel_confusion_matrix\n",
    "import pickle\n",
    "\n",
    "#Set the parameters of each model by cross-validation gridsearch\n",
    "#from custom-perceptron import my_perceptron\n",
    "models = {'KNN': KNeighborsClassifier(),\n",
    "          'SVC': OneVsRestClassifier(SVC()),\n",
    "          'LR': OneVsRestClassifier(LogisticRegression()),\n",
    "        #   'GNB': OneVsRestClassifier(GaussianNB()),\n",
    "          'DT': DecisionTreeClassifier(),\n",
    "          'RF': RandomForestClassifier(n_jobs=-1), \n",
    "          'MLP': MLPClassifier(learning_rate='adaptive',shuffle=True, max_iter=500),\n",
    "          'XGB': XGBClassifier()}\n",
    "\n",
    "param_grid = [{'KNN__n_neighbors': [1, 3, 5, 7, 9, 11, 13, 15], 'KNN__weights': ['uniform', 'distance']},\n",
    "              {'SVC__estimator__kernel': ['rbf', 'linear'], 'SVC__estimator__gamma': ['scale', 'auto'], 'SVC__estimator__C': [10, 100, 1000]},\n",
    "              {'LR__estimator__penalty': ['l1', 'l2'], 'LR__estimator__C': [1.0, 0.5, 0.1], 'LR__estimator__solver': ['lbfgs','liblinear']},\n",
    "            #   {'GNB__priors':[None, [0.5,0.5], [0.1, 0.9], [0.000001,0.99999], [0.000000001,0.99999999]]},\n",
    "              {'DT__criterion': ['entropy'], 'DT__max_depth': [6], 'DT__min_samples_leaf': [1], 'DT__min_samples_split': [4]},\n",
    "              {'RF__n_estimators': [200, 600], 'RF__max_depth': [4, 10, None], 'RF__min_samples_leaf': [1, 2, 5]},\n",
    "              {'MLP__hidden_layer_sizes': [150,100,50], 'MLP__activation':['relu','logistic','tanh'], \n",
    "               'MLP__solver': ['adam','lbfgs','sgd']}, #,verbose=True, early_stopping=True\n",
    "              {'XGB__learning_rate': [.1,.2,.3], 'XGB__max_depth': [1, 2, 3, 4, 5, 6], 'XGB__min_child_weight': [1,2],\n",
    "               'XGB__subsample': [1.0, 0.5, 0.1], 'XGB__n_estimators': [200, 600]}]\n",
    "\n",
    "def modelSearch():\n",
    "  best_scores=[]\n",
    "  params=[]\n",
    "\n",
    "  for (classifier, model_params, name) in list(zip(models.values(), param_grid, models.keys())):\n",
    "      print(f\"\\nTuning hyper-parameters, based on accuracy for {name} with parameter grid: {model_params}\")\n",
    "\n",
    "      pipe = Pipeline([(name, models[name])])\n",
    "      clf = GridSearchCV(estimator=pipe, param_grid=model_params, cv=5, scoring='accuracy', n_jobs=-1)    \n",
    "      clf.fit(train_X, train_Y) \n",
    "\n",
    "      # print(f\"Mean performance of each parameter combination based on Cross Validation\")\n",
    "      # performance = pd.DataFrame(clf.cv_results_['params'])\n",
    "      # performance[\"Score\"] = clf.cv_results_['mean_test_score']\n",
    "      # print(performance)\n",
    "\n",
    "      # print(\"\\nBest parameters set found on training set:\")\n",
    "      # print(clf.best_params_)\n",
    "      # params.append(clf.best_params_)\n",
    "\n",
    "      # print(\"\\nThe scores are computed on the full evaluation set:\")\n",
    "      #evaluate and store scores of estimators of each category on validation set\n",
    "      score = clf.score(test_X, test_Y)\n",
    "      print(\"Accuracy:\", score)\n",
    "      best_scores.append(score)\n",
    "\n",
    "      with open(f'{name}.pkl', 'wb+') as f: pickle.dump(clf, f)\n",
    "      \n",
    "      # pred_Y = clf.predict(test_X)\n",
    "      # print(metrics.classification_report(test_Y, pred_Y, digits=5))\n",
    "      # confusion_matrices = multilabel_confusion_matrix(test_Y, pred_Y)\n",
    "      # for i, cm in enumerate(confusion_matrices):\n",
    "      #     print(f\"Confusion Matrix for Class \\\"{target_cols[i]}\\\":\\n {cm}\\n\")\n",
    "          \n",
    "      #     # ax, labels, title and ticks\n",
    "      #     ax= plt.subplot();\n",
    "      #     sns.heatmap(cm, annot=True, fmt='g', ax=ax, cmap=plt.cm.Greens);  #annot=True to annotate cells, ftm='g' to disable scientific notation\n",
    "      #     ax.set_xlabel('Predicted labels'); ax.set_ylabel('True labels');  \n",
    "      #     ax.set_xticklabels(['No','Yes']); ax.set_yticklabels(['No','Yes'])\n",
    "      #     print(f\"True Positives: {cm[1,1]}, False Positives: {cm[0,1]}, True Negatives: {cm[0,0]}, False Negatives: {cm[1,0]} \\n\\n\")\n",
    "      #     plt.title(target_cols[i]); plt.show()\n",
    "  return best_scores\n",
    "\n",
    "best_scores = modelSearch()\n",
    "final_scores = dict(zip(list(models.keys()), best_scores))"
   ]
  },
  {
   "cell_type": "code",
   "execution_count": 19,
   "metadata": {},
   "outputs": [
    {
     "name": "stdout",
     "output_type": "stream",
     "text": [
      "{'KNN': 0.425, 'OVRSVC': 0.55, 'OVRLR': 0.45, 'DT': 0.45, 'RF': 0.475, 'MLP': 0.425, 'XGB': 0.475}\n"
     ]
    }
   ],
   "source": [
    "print(final_scores)"
   ]
  },
  {
   "cell_type": "code",
   "execution_count": 20,
   "metadata": {},
   "outputs": [
    {
     "name": "stdout",
     "output_type": "stream",
     "text": [
      "Mean performance of each parameter combination based on Cross Validation\n",
      "    OVRSVC__estimator__C OVRSVC__estimator__gamma OVRSVC__estimator__kernel  \\\n",
      "0                     10                    scale                       rbf   \n",
      "1                     10                    scale                    linear   \n",
      "2                     10                     auto                       rbf   \n",
      "3                     10                     auto                    linear   \n",
      "4                    100                    scale                       rbf   \n",
      "5                    100                    scale                    linear   \n",
      "6                    100                     auto                       rbf   \n",
      "7                    100                     auto                    linear   \n",
      "8                   1000                    scale                       rbf   \n",
      "9                   1000                    scale                    linear   \n",
      "10                  1000                     auto                       rbf   \n",
      "11                  1000                     auto                    linear   \n",
      "\n",
      "       Score  \n",
      "0   0.422464  \n",
      "1   0.378986  \n",
      "2   0.405797  \n",
      "3   0.378986  \n",
      "4   0.381159  \n",
      "5   0.405797  \n",
      "6   0.372826  \n",
      "7   0.405797  \n",
      "8   0.355072  \n",
      "9   0.380435  \n",
      "10  0.355072  \n",
      "11  0.380435  \n",
      "\n",
      "Best parameters set found on training set:\n",
      "{'OVRSVC__estimator__C': 10, 'OVRSVC__estimator__gamma': 'scale', 'OVRSVC__estimator__kernel': 'rbf'}\n",
      "\n",
      "Accuracy: 0.55\n",
      "              precision    recall  f1-score   support\n",
      "\n",
      "           0    0.94872   0.97368   0.96104        38\n",
      "           1    0.65217   0.75000   0.69767        20\n",
      "           2    0.00000   0.00000   0.00000         3\n",
      "           3    0.00000   0.00000   0.00000         1\n",
      "\n",
      "   micro avg    0.83871   0.83871   0.83871        62\n",
      "   macro avg    0.40022   0.43092   0.41468        62\n",
      "weighted avg    0.79185   0.83871   0.81408        62\n",
      " samples avg    0.85000   0.86667   0.83000        62\n",
      "\n",
      "Confusion Matrix for Class \"Carrying out construction works \":\n",
      " [[ 0  2]\n",
      " [ 1 37]]\n",
      "\n"
     ]
    },
    {
     "name": "stderr",
     "output_type": "stream",
     "text": [
      "c:\\Users\\User\\AppData\\Local\\Programs\\Python\\Python38\\lib\\site-packages\\sklearn\\metrics\\_classification.py:1334: UndefinedMetricWarning: Precision and F-score are ill-defined and being set to 0.0 in labels with no predicted samples. Use `zero_division` parameter to control this behavior.\n",
      "  _warn_prf(average, modifier, msg_start, len(result))\n"
     ]
    },
    {
     "data": {
      "image/png": "[encoded data removed]",
      "text/plain": [
       "<Figure size 640x480 with 2 Axes>"
      ]
     },
     "metadata": {},
     "output_type": "display_data"
    },
    {
     "name": "stdout",
     "output_type": "stream",
     "text": [
      "True Positives: 37, False Positives: 2, True Negatives: 0, False Negatives: 1 \n",
      "\n",
      "\n",
      "Confusion Matrix for Class \"Reconstruction of engineering systems\":\n",
      " [[12  8]\n",
      " [ 5 15]]\n",
      "\n"
     ]
    },
    {
     "data": {
      "image/png": "[encoded data removed]",
      "text/plain": [
       "<Figure size 640x480 with 2 Axes>"
      ]
     },
     "metadata": {},
     "output_type": "display_data"
    },
    {
     "name": "stdout",
     "output_type": "stream",
     "text": [
      "True Positives: 15, False Positives: 8, True Negatives: 12, False Negatives: 5 \n",
      "\n",
      "\n",
      "Confusion Matrix for Class \"Heat installation\":\n",
      " [[37  0]\n",
      " [ 3  0]]\n",
      "\n"
     ]
    },
    {
     "data": {
      "image/png": "[encoded data removed]",
      "text/plain": [
       "<Figure size 640x480 with 2 Axes>"
      ]
     },
     "metadata": {},
     "output_type": "display_data"
    },
    {
     "name": "stdout",
     "output_type": "stream",
     "text": [
      "True Positives: 0, False Positives: 0, True Negatives: 37, False Negatives: 3 \n",
      "\n",
      "\n",
      "Confusion Matrix for Class \"Water heating system\":\n",
      " [[39  0]\n",
      " [ 1  0]]\n",
      "\n"
     ]
    },
    {
     "data": {
      "image/png": "[encoded data removed]",
      "text/plain": [
       "<Figure size 640x480 with 2 Axes>"
      ]
     },
     "metadata": {},
     "output_type": "display_data"
    },
    {
     "name": "stdout",
     "output_type": "stream",
     "text": [
      "True Positives: 0, False Positives: 0, True Negatives: 39, False Negatives: 1 \n",
      "\n",
      "\n"
     ]
    }
   ],
   "source": [
    "###############################################################################\n",
    "# Evaluation with various classification metrics (classification report)\n",
    "###############################################################################\n",
    "\n",
    "best_model = max(key for key, value in final_scores.items() if value == max(final_scores.values()))\n",
    "best_model_index = list(models).index(best_model)\n",
    "\n",
    "with open(f'{best_model}.pkl', 'rb') as f: clf = pickle.load(f)\n",
    "\n",
    "# pipe = Pipeline([(best_model, models[best_model])])\n",
    "# clf = GridSearchCV(estimator=pipe, param_grid=param_grid[best_model_index], cv=5, scoring='accuracy', n_jobs=-1)    \n",
    "# clf.fit(train_X, train_Y) \n",
    "\n",
    "print(f\"Mean performance of each parameter combination based on Cross Validation\")\n",
    "performance = pd.DataFrame(clf.cv_results_['params'])\n",
    "performance[\"Score\"] = clf.cv_results_['mean_test_score']\n",
    "print(performance)\n",
    "\n",
    "print(\"\\nBest parameters set found on training set:\")\n",
    "print(clf.best_params_)\n",
    "\n",
    "#evaluate and store scores of estimators of each category on validation set\n",
    "score = clf.score(test_X, test_Y)\n",
    "print(\"\\nAccuracy:\", score)\n",
    "best_scores.append(score)\n",
    "\n",
    "pred_Y = clf.predict(test_X)\n",
    "print(metrics.classification_report(test_Y, pred_Y, digits=5))\n",
    "confusion_matrices = multilabel_confusion_matrix(test_Y, pred_Y)\n",
    "for i, cm in enumerate(confusion_matrices):\n",
    "    print(f\"Confusion Matrix for Class \\\"{target_cols[i]}\\\":\\n {cm}\\n\")\n",
    "\n",
    "    # ax, labels, title and ticks\n",
    "    ax= plt.subplot();\n",
    "    sns.heatmap(cm, annot=True, fmt='g', ax=ax, cmap=plt.cm.Greens);  #annot=True to annotate cells, ftm='g' to disable scientific notation\n",
    "    ax.set_xlabel('Predicted labels'); ax.set_ylabel('True labels');  \n",
    "    ax.set_xticklabels(['No','Yes']); ax.set_yticklabels(['No','Yes'])\n",
    "    plt.title(target_cols[i]); plt.show()\n",
    "    print(f\"True Positives: {cm[1,1]}, False Positives: {cm[0,1]}, True Negatives: {cm[0,0]}, False Negatives: {cm[1,0]} \\n\\n\")"
   ]
  },
  {
   "cell_type": "code",
   "execution_count": 21,
   "metadata": {},
   "outputs": [
    {
     "name": "stdout",
     "output_type": "stream",
     "text": [
      "    Building Total Area  Reference area  Above-ground floors  \\\n",
      "66             0.372583        0.244862                  0.5   \n",
      "\n",
      "    Underground floor  Energy consumption before  Initial energy class   \\\n",
      "66                1.0                   0.267698                      2   \n",
      "\n",
      "    Energy class after  \n",
      "66                   2  \n",
      "[[1 0 0 0]]\n"
     ]
    }
   ],
   "source": [
    "def model_predict(best_model,specs):\n",
    "    with open(f'{best_model}.pkl', 'rb') as f: clf = pickle.load(f)\n",
    "    pred_Y = clf.predict(specs)\n",
    "    print(pred_Y)\n",
    "    \n",
    "specs = test_X[:1]\n",
    "print(test_X[:1])\n",
    "model_predict(best_model,specs)"
   ]
  }
 ],
 "metadata": {
  "kernelspec": {
   "display_name": "Python 3",
   "language": "python",
   "name": "python3"
  },
  "language_info": {
   "codemirror_mode": {
    "name": "ipython",
    "version": 3
   },
   "file_extension": ".py",
   "mimetype": "text/x-python",
   "name": "python",
   "nbconvert_exporter": "python",
   "pygments_lexer": "ipython3",
   "version": "3.8.0"
  }
 },
 "nbformat": 4,
 "nbformat_minor": 2
}
